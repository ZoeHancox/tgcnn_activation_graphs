{
 "cells": [
  {
   "cell_type": "code",
   "execution_count": 1,
   "metadata": {},
   "outputs": [],
   "source": [
    "# import packages\n",
    "import matplotlib.pyplot as plt\n",
    "import numpy as np\n",
    "\n",
    "from src import utils, figures, calculations, max_act_diff"
   ]
  },
  {
   "cell_type": "markdown",
   "metadata": {},
   "source": [
    "### Example data:\n",
    "\n",
    "Below we provide some example data.\n",
    "\n",
    "The `filters` used should be extracted from the 3D CNN layer of the trained TG-CNN model.\n",
    "\n",
    "The `input_tensors` are the graph representations of the individual patient pathways {INSERT TENSOR BUILDING GIF HERE}.\n",
    "\n",
    "The `labels` are whether the patient had a positive (1) or negative (0) outcome.\n",
    "\n",
    "Both the `filters` and the `input_tensors` should be 4D, `input_tensors` with shape (num_patients, num_timesteps,num_nodes, num_nodes) and `filters` with shape (num_filters, num_timesteps, num_nodes, num_nodes)."
   ]
  },
  {
   "cell_type": "code",
   "execution_count": 2,
   "metadata": {},
   "outputs": [],
   "source": [
    "# Example Filters and Patients and Labels of whether they have a hip replacement (1) or not (0)\n",
    "\n",
    "filters = np.array([[[[0, 0, 1], \n",
    "                    [0, 1, 0], \n",
    "                    [0, 0, 1]], [[1, 1, 0], \n",
    "                                 [0, 0, 0], \n",
    "                                 [0, 0, 0]]], \n",
    "                   [[[0, 1, 0], \n",
    "                    [0, 1, 0], \n",
    "                    [0, 0, 1]], [[1, 0, 0], \n",
    "                                 [0, 0, 0], \n",
    "                                 [0, 0, 0]]]])\n",
    "\n",
    "\n",
    "input_tensors = np.array([[[[0, 0, 0], \n",
    "                          [0, 0, 3], \n",
    "                          [0, 0, 0]], [[0, 0, 0],\n",
    "                                       [0, 0, 0],\n",
    "                                       [0, 4, 4]], [[0, 0, 0], \n",
    "                                                    [0, 2, 0], \n",
    "                                                    [0, 2, 0]], [[0, 0, 0], \n",
    "                                                                 [5, 0, 5], \n",
    "                                                                 [0, 0, 0]]],                        \n",
    "                        [[[1, 0, 0], \n",
    "                          [1, 0, 0], \n",
    "                          [1, 0, 0]], [[0, 0, 0],\n",
    "                                       [0, 8, 0],\n",
    "                                       [0, 0, 0]], [[0, 11, 0], \n",
    "                                                    [0, 0, 0], \n",
    "                                                    [0, 11, 0]], [[0, 0, 30], \n",
    "                                                                 [0, 0, 30], \n",
    "                                                                 [0, 0, 30]]],                       \n",
    "                          \n",
    "                          [[[0, 0, 9], \n",
    "                          [0, 0, 0], \n",
    "                          [0, 0, 0]], [[0, 0, 0],\n",
    "                                       [7, 0, 0],\n",
    "                                       [7, 0, 0]], [[0, 0, 0], \n",
    "                                                    [0, 0, 2], \n",
    "                                                    [0, 0, 0]], [[0, 0, 0], \n",
    "                                                                 [1, 0, 0], \n",
    "                                                                 [0, 0, 0]]],                          \n",
    "                          [[[1, 1, 1], \n",
    "                          [0, 0, 0], \n",
    "                          [0, 0, 0]], [[0, 0, 1],\n",
    "                                       [0, 0, 1],\n",
    "                                       [0, 0, 0]], [[0, 0, 0], \n",
    "                                                    [0, 1, 0], \n",
    "                                                    [0, 1, 0]], [[0, 2, 0], \n",
    "                                                                 [0, 0, 0], \n",
    "                                                                 [0, 2, 0]]]]\n",
    "                        \n",
    "                        )\n",
    "\n",
    "\n",
    "labels = [0, 1, 1, 0] #hip_replacement labels"
   ]
  },
  {
   "cell_type": "markdown",
   "metadata": {},
   "source": [
    "### Calculate Maximum Activation Difference Between Hip Replacement and No Hip Replacement "
   ]
  },
  {
   "cell_type": "code",
   "execution_count": 3,
   "metadata": {},
   "outputs": [],
   "source": [
    "# def edge_activated_graph():\n",
    "\n",
    "#     # 1. Get the maximum activation for each filter.\n",
    "#     mean_activation_df = max_act_diff.max_act_diff_calc('Hip Replacement', input_tensors, filters, labels, verbose=False, show_plot=False)\n"
   ]
  },
  {
   "cell_type": "code",
   "execution_count": 14,
   "metadata": {},
   "outputs": [],
   "source": [
    "mean_activation_df = max_act_diff.max_act_diff_calc('Hip Replacement', input_tensors, filters, labels, verbose=False, show_plot=False)"
   ]
  },
  {
   "cell_type": "code",
   "execution_count": 5,
   "metadata": {},
   "outputs": [],
   "source": [
    "# Pick one patient graph to draw\n",
    "patient_graph = utils.select_patient(input_tensors, 0)"
   ]
  },
  {
   "cell_type": "code",
   "execution_count": 6,
   "metadata": {},
   "outputs": [
    {
     "name": "stdout",
     "output_type": "stream",
     "text": [
      "Filter 1 had the largest difference in activation.\n"
     ]
    }
   ],
   "source": [
    "max_act_filt = utils.get_max_act_filt(mean_activation_df, filters)"
   ]
  },
  {
   "cell_type": "code",
   "execution_count": 7,
   "metadata": {},
   "outputs": [
    {
     "data": {
      "text/plain": [
       "array([[[0., 0., 0.],\n",
       "        [0., 0., 0.],\n",
       "        [0., 0., 0.]],\n",
       "\n",
       "       [[0., 0., 0.],\n",
       "        [0., 0., 0.],\n",
       "        [0., 0., 0.]],\n",
       "\n",
       "       [[0., 0., 0.],\n",
       "        [0., 2., 0.],\n",
       "        [0., 0., 0.]],\n",
       "\n",
       "       [[0., 0., 0.],\n",
       "        [0., 0., 0.],\n",
       "        [0., 0., 0.]]])"
      ]
     },
     "execution_count": 7,
     "metadata": {},
     "output_type": "execute_result"
    }
   ],
   "source": [
    "act_graph = calculations.get_act_graph_array(patient_graph, max_act_filt)\n",
    "act_graph"
   ]
  },
  {
   "cell_type": "code",
   "execution_count": 8,
   "metadata": {},
   "outputs": [
    {
     "data": {
      "text/html": [
       "<div>\n",
       "<style scoped>\n",
       "    .dataframe tbody tr th:only-of-type {\n",
       "        vertical-align: middle;\n",
       "    }\n",
       "\n",
       "    .dataframe tbody tr th {\n",
       "        vertical-align: top;\n",
       "    }\n",
       "\n",
       "    .dataframe thead th {\n",
       "        text-align: right;\n",
       "    }\n",
       "</style>\n",
       "<table border=\"1\" class=\"dataframe\">\n",
       "  <thead>\n",
       "    <tr style=\"text-align: right;\">\n",
       "      <th></th>\n",
       "      <th>start_node</th>\n",
       "      <th>end_node</th>\n",
       "      <th>activated</th>\n",
       "      <th>weight</th>\n",
       "      <th>time_between</th>\n",
       "    </tr>\n",
       "  </thead>\n",
       "  <tbody>\n",
       "    <tr>\n",
       "      <th>0</th>\n",
       "      <td>1_v0</td>\n",
       "      <td>2_v1</td>\n",
       "      <td>0</td>\n",
       "      <td>0.5</td>\n",
       "      <td>3</td>\n",
       "    </tr>\n",
       "    <tr>\n",
       "      <th>1</th>\n",
       "      <td>2_v1</td>\n",
       "      <td>1_v2</td>\n",
       "      <td>0</td>\n",
       "      <td>0.5</td>\n",
       "      <td>4</td>\n",
       "    </tr>\n",
       "    <tr>\n",
       "      <th>2</th>\n",
       "      <td>2_v1</td>\n",
       "      <td>2_v2</td>\n",
       "      <td>0</td>\n",
       "      <td>0.5</td>\n",
       "      <td>4</td>\n",
       "    </tr>\n",
       "    <tr>\n",
       "      <th>3</th>\n",
       "      <td>1_v2</td>\n",
       "      <td>1_v3</td>\n",
       "      <td>1</td>\n",
       "      <td>2.0</td>\n",
       "      <td>2</td>\n",
       "    </tr>\n",
       "    <tr>\n",
       "      <th>4</th>\n",
       "      <td>2_v2</td>\n",
       "      <td>1_v3</td>\n",
       "      <td>0</td>\n",
       "      <td>0.5</td>\n",
       "      <td>2</td>\n",
       "    </tr>\n",
       "    <tr>\n",
       "      <th>5</th>\n",
       "      <td>1_v3</td>\n",
       "      <td>0_v4</td>\n",
       "      <td>0</td>\n",
       "      <td>0.5</td>\n",
       "      <td>5</td>\n",
       "    </tr>\n",
       "    <tr>\n",
       "      <th>6</th>\n",
       "      <td>1_v3</td>\n",
       "      <td>2_v4</td>\n",
       "      <td>0</td>\n",
       "      <td>0.5</td>\n",
       "      <td>5</td>\n",
       "    </tr>\n",
       "  </tbody>\n",
       "</table>\n",
       "</div>"
      ],
      "text/plain": [
       "  start_node end_node  activated  weight time_between\n",
       "0       1_v0     2_v1          0     0.5            3\n",
       "1       2_v1     1_v2          0     0.5            4\n",
       "2       2_v1     2_v2          0     0.5            4\n",
       "3       1_v2     1_v3          1     2.0            2\n",
       "4       2_v2     1_v3          0     0.5            2\n",
       "5       1_v3     0_v4          0     0.5            5\n",
       "6       1_v3     2_v4          0     0.5            5"
      ]
     },
     "execution_count": 8,
     "metadata": {},
     "output_type": "execute_result"
    }
   ],
   "source": [
    "edges_df = utils.create_edges_df(patient_graph, act_graph)\n",
    "edges_df"
   ]
  },
  {
   "cell_type": "code",
   "execution_count": 9,
   "metadata": {},
   "outputs": [
    {
     "data": {
      "text/html": [
       "<div>\n",
       "<style scoped>\n",
       "    .dataframe tbody tr th:only-of-type {\n",
       "        vertical-align: middle;\n",
       "    }\n",
       "\n",
       "    .dataframe tbody tr th {\n",
       "        vertical-align: top;\n",
       "    }\n",
       "\n",
       "    .dataframe thead th {\n",
       "        text-align: right;\n",
       "    }\n",
       "</style>\n",
       "<table border=\"1\" class=\"dataframe\">\n",
       "  <thead>\n",
       "    <tr style=\"text-align: right;\">\n",
       "      <th></th>\n",
       "      <th>node</th>\n",
       "      <th>x</th>\n",
       "      <th>cumulative_count</th>\n",
       "      <th>max_codes_per_visit</th>\n",
       "    </tr>\n",
       "  </thead>\n",
       "  <tbody>\n",
       "    <tr>\n",
       "      <th>0</th>\n",
       "      <td>1_v0</td>\n",
       "      <td>0</td>\n",
       "      <td>0</td>\n",
       "      <td>1</td>\n",
       "    </tr>\n",
       "    <tr>\n",
       "      <th>1</th>\n",
       "      <td>2_v1</td>\n",
       "      <td>1</td>\n",
       "      <td>0</td>\n",
       "      <td>1</td>\n",
       "    </tr>\n",
       "    <tr>\n",
       "      <th>2</th>\n",
       "      <td>1_v2</td>\n",
       "      <td>2</td>\n",
       "      <td>0</td>\n",
       "      <td>2</td>\n",
       "    </tr>\n",
       "    <tr>\n",
       "      <th>3</th>\n",
       "      <td>2_v2</td>\n",
       "      <td>2</td>\n",
       "      <td>1</td>\n",
       "      <td>2</td>\n",
       "    </tr>\n",
       "    <tr>\n",
       "      <th>4</th>\n",
       "      <td>1_v3</td>\n",
       "      <td>3</td>\n",
       "      <td>0</td>\n",
       "      <td>1</td>\n",
       "    </tr>\n",
       "    <tr>\n",
       "      <th>5</th>\n",
       "      <td>0_v4</td>\n",
       "      <td>4</td>\n",
       "      <td>0</td>\n",
       "      <td>2</td>\n",
       "    </tr>\n",
       "    <tr>\n",
       "      <th>6</th>\n",
       "      <td>2_v4</td>\n",
       "      <td>4</td>\n",
       "      <td>1</td>\n",
       "      <td>2</td>\n",
       "    </tr>\n",
       "  </tbody>\n",
       "</table>\n",
       "</div>"
      ],
      "text/plain": [
       "   node  x  cumulative_count  max_codes_per_visit\n",
       "0  1_v0  0                 0                    1\n",
       "1  2_v1  1                 0                    1\n",
       "2  1_v2  2                 0                    2\n",
       "3  2_v2  2                 1                    2\n",
       "4  1_v3  3                 0                    1\n",
       "5  0_v4  4                 0                    2\n",
       "6  2_v4  4                 1                    2"
      ]
     },
     "execution_count": 9,
     "metadata": {},
     "output_type": "execute_result"
    }
   ],
   "source": [
    "pos_df = utils.create_position_df(edges_df)\n",
    "pos_df"
   ]
  },
  {
   "cell_type": "code",
   "execution_count": 10,
   "metadata": {},
   "outputs": [
    {
     "data": {
      "text/plain": [
       "[[0], [-1, 1]]"
      ]
     },
     "execution_count": 10,
     "metadata": {},
     "output_type": "execute_result"
    }
   ],
   "source": [
    "pos_list = utils.generate_pos_sequence(pos_df['max_codes_per_visit'].max())\n",
    "pos_list"
   ]
  },
  {
   "cell_type": "code",
   "execution_count": 11,
   "metadata": {},
   "outputs": [
    {
     "data": {
      "text/html": [
       "<div>\n",
       "<style scoped>\n",
       "    .dataframe tbody tr th:only-of-type {\n",
       "        vertical-align: middle;\n",
       "    }\n",
       "\n",
       "    .dataframe tbody tr th {\n",
       "        vertical-align: top;\n",
       "    }\n",
       "\n",
       "    .dataframe thead th {\n",
       "        text-align: right;\n",
       "    }\n",
       "</style>\n",
       "<table border=\"1\" class=\"dataframe\">\n",
       "  <thead>\n",
       "    <tr style=\"text-align: right;\">\n",
       "      <th></th>\n",
       "      <th>node</th>\n",
       "      <th>x</th>\n",
       "      <th>cumulative_count</th>\n",
       "      <th>max_codes_per_visit</th>\n",
       "      <th>y</th>\n",
       "    </tr>\n",
       "  </thead>\n",
       "  <tbody>\n",
       "    <tr>\n",
       "      <th>0</th>\n",
       "      <td>1_v0</td>\n",
       "      <td>0</td>\n",
       "      <td>0</td>\n",
       "      <td>1</td>\n",
       "      <td>0</td>\n",
       "    </tr>\n",
       "    <tr>\n",
       "      <th>1</th>\n",
       "      <td>2_v1</td>\n",
       "      <td>1</td>\n",
       "      <td>0</td>\n",
       "      <td>1</td>\n",
       "      <td>0</td>\n",
       "    </tr>\n",
       "    <tr>\n",
       "      <th>2</th>\n",
       "      <td>1_v2</td>\n",
       "      <td>2</td>\n",
       "      <td>0</td>\n",
       "      <td>2</td>\n",
       "      <td>-1</td>\n",
       "    </tr>\n",
       "    <tr>\n",
       "      <th>3</th>\n",
       "      <td>2_v2</td>\n",
       "      <td>2</td>\n",
       "      <td>1</td>\n",
       "      <td>2</td>\n",
       "      <td>1</td>\n",
       "    </tr>\n",
       "    <tr>\n",
       "      <th>4</th>\n",
       "      <td>1_v3</td>\n",
       "      <td>3</td>\n",
       "      <td>0</td>\n",
       "      <td>1</td>\n",
       "      <td>0</td>\n",
       "    </tr>\n",
       "    <tr>\n",
       "      <th>5</th>\n",
       "      <td>0_v4</td>\n",
       "      <td>4</td>\n",
       "      <td>0</td>\n",
       "      <td>2</td>\n",
       "      <td>-1</td>\n",
       "    </tr>\n",
       "    <tr>\n",
       "      <th>6</th>\n",
       "      <td>2_v4</td>\n",
       "      <td>4</td>\n",
       "      <td>1</td>\n",
       "      <td>2</td>\n",
       "      <td>1</td>\n",
       "    </tr>\n",
       "  </tbody>\n",
       "</table>\n",
       "</div>"
      ],
      "text/plain": [
       "   node  x  cumulative_count  max_codes_per_visit  y\n",
       "0  1_v0  0                 0                    1  0\n",
       "1  2_v1  1                 0                    1  0\n",
       "2  1_v2  2                 0                    2 -1\n",
       "3  2_v2  2                 1                    2  1\n",
       "4  1_v3  3                 0                    1  0\n",
       "5  0_v4  4                 0                    2 -1\n",
       "6  2_v4  4                 1                    2  1"
      ]
     },
     "execution_count": 11,
     "metadata": {},
     "output_type": "execute_result"
    }
   ],
   "source": [
    "pos_df = utils.map_y_coord_to_node(pos_df, pos_list)\n",
    "pos_df"
   ]
  },
  {
   "cell_type": "code",
   "execution_count": 12,
   "metadata": {},
   "outputs": [
    {
     "data": {
      "text/plain": [
       "{'1_v0': (0, 0),\n",
       " '2_v1': (1, 0),\n",
       " '1_v2': (2, -1),\n",
       " '2_v2': (2, 1),\n",
       " '1_v3': (3, 0),\n",
       " '0_v4': (4, -1),\n",
       " '2_v4': (4, 1)}"
      ]
     },
     "execution_count": 12,
     "metadata": {},
     "output_type": "execute_result"
    }
   ],
   "source": [
    "pos_dict = utils.create_pos_dict(pos_df)\n",
    "pos_dict"
   ]
  },
  {
   "cell_type": "code",
   "execution_count": 13,
   "metadata": {},
   "outputs": [
    {
     "data": {
      "image/png": "[encoded data removed]",
      "text/plain": [
       "<Figure size 1200x800 with 1 Axes>"
      ]
     },
     "metadata": {},
     "output_type": "display_data"
    }
   ],
   "source": [
    "figures.draw_edge_activated_graph(edges_df, pos_dict)"
   ]
  },
  {
   "cell_type": "code",
   "execution_count": null,
   "metadata": {},
   "outputs": [],
   "source": []
  }
 ],
 "metadata": {
  "kernelspec": {
   "display_name": "graph_viz",
   "language": "python",
   "name": "python3"
  },
  "language_info": {
   "codemirror_mode": {
    "name": "ipython",
    "version": 3
   },
   "file_extension": ".py",
   "mimetype": "text/x-python",
   "name": "python",
   "nbconvert_exporter": "python",
   "pygments_lexer": "ipython3",
   "version": "3.8.19"
  }
 },
 "nbformat": 4,
 "nbformat_minor": 2
}
